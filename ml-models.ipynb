{
 "cells": [
  {
   "cell_type": "code",
   "execution_count": null,
   "metadata": {},
   "outputs": [],
   "source": [
    "X = df.drop(['R_fighter', 'B_fighter', 'date', 'location', 'country', 'winner_is_blue', 'is_male', 'weight_class',\n",
    "            'B_Stance', 'R_Stance', 'better_rank'], axis=1)\n",
    "y = df['winner_is_blue']"
   ]
  },
  {
   "cell_type": "code",
   "execution_count": null,
   "metadata": {},
   "outputs": [],
   "source": [
    "# Make predictions\n",
    "from sklearn.linear_model import LogisticRegression\n",
    "from sklearn.model_selection import train_test_split\n",
    "\n",
    "X_train, X_test, y_train, y_test = train_test_split(X, y, test_size=0.25, random_state=42)"
   ]
  },
  {
   "cell_type": "code",
   "execution_count": null,
   "metadata": {},
   "outputs": [],
   "source": [
    "from sklearn.preprocessing import StandardScaler\n",
    "\n",
    "scaler = StandardScaler()\n",
    "scaler.fit(X_train)\n",
    "X_train = scaler.transform(X_train)\n",
    "X_test = scaler.transform(X_test)"
   ]
  },
  {
   "cell_type": "code",
   "execution_count": null,
   "metadata": {},
   "outputs": [],
   "source": [
    "from sklearn.decomposition import PCA\n",
    "\n",
    "# Instantiate & fit PCA model\n",
    "# Generate 100 PCs randomly to see how much of the variance in X_train they explain\n",
    "my_pca = PCA(n_components=77)\n",
    "\n",
    "# fit the train data\n",
    "my_pca.fit(X_train)\n",
    "\n",
    "# transform data \n",
    "X_PCA = my_pca.transform(X_train)"
   ]
  },
  {
   "cell_type": "code",
   "execution_count": null,
   "metadata": {},
   "outputs": [],
   "source": [
    "# look at the explained variance by our principal components\n",
    "expl_var = my_pca.explained_variance_ratio_\n",
    "print(expl_var)"
   ]
  },
  {
   "cell_type": "code",
   "execution_count": null,
   "metadata": {},
   "outputs": [],
   "source": [
    "# plot the explained variance by our principal components\n",
    "plt.figure(figsize=(10,10))\n",
    "plt.plot(range(1,78),expl_var,marker='.')\n",
    "plt.xlabel('Number of PCs')\n",
    "plt.ylabel('Proportion of Variance Explained')\n",
    "plt.xticks(range(1,78,2))\n",
    "plt.show()"
   ]
  },
  {
   "cell_type": "code",
   "execution_count": null,
   "metadata": {},
   "outputs": [],
   "source": [
    "expl_var_cumulative = my_pca.explained_variance_ratio_.cumsum()\n",
    "print(expl_var_cumulative)"
   ]
  },
  {
   "cell_type": "code",
   "execution_count": null,
   "metadata": {},
   "outputs": [],
   "source": [
    "plt.figure(figsize=(10,10))\n",
    "plt.plot(range(1,78),expl_var_cumulative,marker='.')\n",
    "plt.xlabel('Number of PCs')\n",
    "plt.ylabel('Proportion of Variance Explained')\n",
    "plt.grid()\n",
    "plt.xticks(range(1,78,2))\n",
    "plt.show()"
   ]
  },
  {
   "cell_type": "code",
   "execution_count": null,
   "metadata": {},
   "outputs": [],
   "source": [
    "X_train, X_test, y_train, y_test = train_test_split(X, y, test_size=0.25, random_state=42)\n",
    "\n",
    "scaler = StandardScaler()\n",
    "scaler.fit(X_train)\n",
    "X_train = scaler.transform(X_train)\n",
    "X_test = scaler.transform(X_test)"
   ]
  },
  {
   "cell_type": "code",
   "execution_count": null,
   "metadata": {},
   "outputs": [],
   "source": [
    "from sklearn.decomposition import PCA\n",
    "\n",
    "# Instantiate & fit PCA model\n",
    "# Generate 100 PCs randomly to see how much of the variance in X_train they explain\n",
    "my_pca = PCA(n_components=0)\n",
    "\n",
    "# fit the train data\n",
    "my_pca.fit(X_train)\n",
    "\n",
    "# transform data \n",
    "X_train_PCA = my_pca.transform(X_train)\n",
    "X_test_PCA = my_pca.transform(X_test) "
   ]
  },
  {
   "cell_type": "code",
   "execution_count": null,
   "metadata": {},
   "outputs": [],
   "source": [
    "C_range = np.array([.00001, .0001, .001, .1,\n",
    "                    1, 10, 100, 1000, 10000, 100000])\n",
    "accuracy = []\n",
    "\n",
    "for c in C_range:\n",
    "    # 1. Instantiate the model\n",
    "    log_reg = LogisticRegression(C = c)\n",
    "    # 2. Fit the model\n",
    "    log_reg.fit(X_train_PCA, y_train)\n",
    "    # Score on training data \n",
    "    print(f'Training accuracy: {log_reg.score(X_train_PCA, y_train)}')\n",
    "    # Score on testing data\n",
    "    print(f'Test accuracy: {log_reg.score(X_test_PCA, y_test)}')\n",
    "    \n",
    "    accuracy.append(log_reg.score(X_test_PCA, y_test))"
   ]
  },
  {
   "cell_type": "code",
   "execution_count": null,
   "metadata": {},
   "outputs": [],
   "source": [
    "plt.figure(figsize = (7,7))\n",
    "plt.plot(C_range, accuracy)\n",
    "plt.xscale('log')"
   ]
  },
  {
   "cell_type": "code",
   "execution_count": null,
   "metadata": {},
   "outputs": [],
   "source": []
  },
  {
   "cell_type": "code",
   "execution_count": null,
   "metadata": {},
   "outputs": [],
   "source": []
  },
  {
   "cell_type": "code",
   "execution_count": null,
   "metadata": {},
   "outputs": [],
   "source": []
  },
  {
   "cell_type": "code",
   "execution_count": null,
   "metadata": {},
   "outputs": [],
   "source": []
  },
  {
   "cell_type": "code",
   "execution_count": null,
   "metadata": {},
   "outputs": [],
   "source": []
  }
 ],
 "metadata": {
  "kernelspec": {
   "display_name": "Python 3",
   "language": "python",
   "name": "python3"
  },
  "language_info": {
   "codemirror_mode": {
    "name": "ipython",
    "version": 3
   },
   "file_extension": ".py",
   "mimetype": "text/x-python",
   "name": "python",
   "nbconvert_exporter": "python",
   "pygments_lexer": "ipython3",
   "version": "3.7.9"
  }
 },
 "nbformat": 4,
 "nbformat_minor": 4
}
